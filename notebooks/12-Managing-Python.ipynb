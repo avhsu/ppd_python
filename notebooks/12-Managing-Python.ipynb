{
 "cells": [
  {
   "cell_type": "markdown",
   "metadata": {},
   "source": [
    "# Demystifying Python installations\n",
    "\n",
    "### How we go from this"
   ]
  },
  {
   "cell_type": "code",
   "execution_count": 1,
   "metadata": {},
   "outputs": [
    {
     "data": {
      "text/html": [
       "<img src=\"https://imgs.xkcd.com/comics/python_environment.png\"/>"
      ],
      "text/plain": [
       "<IPython.core.display.Image object>"
      ]
     },
     "execution_count": 1,
     "metadata": {},
     "output_type": "execute_result"
    }
   ],
   "source": [
    "from IPython.core.display import Image \n",
    "Image(url='https://imgs.xkcd.com/comics/python_environment.png')"
   ]
  },
  {
   "cell_type": "markdown",
   "metadata": {},
   "source": [
    "### To this"
   ]
  },
  {
   "cell_type": "code",
   "execution_count": 2,
   "metadata": {},
   "outputs": [
    {
     "data": {
      "text/html": [
       "<img src=\"https://imgs.xkcd.com/comics/python.png\"/>"
      ],
      "text/plain": [
       "<IPython.core.display.Image object>"
      ]
     },
     "execution_count": 2,
     "metadata": {},
     "output_type": "execute_result"
    }
   ],
   "source": [
    "Image(url='https://imgs.xkcd.com/comics/python.png')"
   ]
  },
  {
   "cell_type": "markdown",
   "metadata": {},
   "source": [
    "Geting started with Python can be bewildering due to the shear number of options for package management and code editing.\n",
    "\n",
    "    Do I install with pip or Anaconda?\n",
    "    Should I try homebrew?\n",
    "    Which Python version should I use?\n",
    "    Can I write my code in Jupyter then copy it over to Spyder?\n",
    "    Why doesn't Pycharm find my science packages?\n",
    "\n",
    "In this notebook, I will give an overview of some of the most popular Python installations and why you may want to use one over another (or several in parralel).\n",
    "\n",
    "## How should I install Python?\n",
    "1. Get [Anaconda for Python](https://www.anaconda.com/distribution/) (make sure it's Python 3.x not 2.x) and install it on your computer\n",
    "2. Follow the instructions for this [ppd course](https://github.com/callumrollo/ppd_python/blob/master/README.md) to build the ppd_python environement\n",
    "3. Download [Pycharm](https://www.jetbrains.com/pycharm/)\n",
    "4. in Pycharm, [create a new project](https://medium.com/infinity-aka-aseem/how-to-setup-pycharm-with-an-anaconda-virtual-environment-already-created-fb927bacbe61) using the conda environment `ppd_python` that you built in step 2\n",
    "5. Start writing Python code\n",
    "\n",
    "Apart from Pycharm, I recommend using [VS Code](https://code.visualstudio.com/) to edit your Python code. It is an open source code editor. I particularly like it for [IntelliSense](https://code.visualstudio.com/docs/editor/intellisense) (autocompletion), easy ways to find references across many files and great linting tools. Comparison between VS Code and Pycharm can be found [here](https://content.techgig.com/pycharm-vs-visual-studio-code-which-one-to-choose-for-python-development/articleshow/75388084.cms).\n",
    "\n",
    "### Why do you recommend this setup?\n",
    "\n",
    "There are as many answers to this question as there are ways to install Python (that's rather a lot). This is largely due to the nature of Python. It is a free software project with open source code that anyone can use to make their own ideal Python ecosystem.\n",
    "\n",
    "If you were so inclined, you could download the [Python source code](https://www.python.org/downloads/source/) and build it from scratch in whatever way you see fit. While very freeing, this is a difficult and tedious task. If your aim is to write Python code, you can download a free Python distribution optimised for that task.\n",
    "\n",
    "I use Anaconda for Python because it is optimised for scientific Python, with the most popular sience packages immediately installable and everything else available through pip. Additonally, Anaconda keeps my environments safe and seperate and prevents me from inadvertantly wrecking my Python installation.\n",
    "\n",
    "## Beyond the basics\n",
    "When you start needing modules beyond the [core of Anaconda](https://docs.anaconda.com/anaconda/packages/py3.7_linux-64/) and the [extra modules from ppd_python](https://github.com/callumrollo/ppd_python/blob/master/environment.yml). You will need to start searching for a way to install new packages.\n",
    "\n",
    "### pip vs Anaconda\n",
    "If you start searching for Python packages, you will soon encounter [pip](https://pypi.org/project/pip/). pip is a recursive acronym:\n",
    "\n",
    "    Pip\n",
    "    Installs\n",
    "    Packages\n",
    "\n",
    "Pip does what it says on the tin. It will fetch and install any package you ask for from the enormous [Python Package Index](https://pypi.org/). Over 200'000 packages are available. If you have a problem, someone has almost certainly written the solution and it's on PyPI somewhere.\n",
    "\n",
    "With such a wealth of packages available, why would we use Anaconda, with its paltry 1500 packages, rather than pip?\n",
    "\n",
    "The answer is that Anaconda is a true *distribution*. It handles everything for us, packages, base Python, even non-Python dependencies, and saves us from making the kind of mess in the xkcd comic at the beginning of this document.\n",
    "\n",
    "So, how does Anaconda work?"
   ]
  },
  {
   "cell_type": "code",
   "execution_count": 3,
   "metadata": {},
   "outputs": [
    {
     "data": {
      "text/html": [
       "<img src=\"https://protostar.space/wp-content/uploads/2019/04/conda-root-and-additional-environments.jpeg\"/>"
      ],
      "text/plain": [
       "<IPython.core.display.Image object>"
      ]
     },
     "execution_count": 3,
     "metadata": {},
     "output_type": "execute_result"
    }
   ],
   "source": [
    "Image(url='https://protostar.space/wp-content/uploads/2019/04/conda-root-and-additional-environments.jpeg')"
   ]
  },
  {
   "cell_type": "markdown",
   "metadata": {},
   "source": [
    "### Workflow for safely installing a new package\n",
    "1. Create a basic environment file (you can start by copying the `environment.yaml` file from this repo) with everything you'll need for your project (numpy for maths, matplotlib for plotting, xarray for netCDFs etc.) and give it a sensible name.\n",
    "2. Create and activate this environment just like you did for `ppd_python`.\n",
    "3. Once you have activated your environment, you can add extra packages easily with `conda install <package name>`.\n",
    "If the package you want is not yet available through Anaconda, you can get it with pip. \n",
    "First install pip with `conda install pip`. Then use pip to install the package you need with `pip install <package name>`.\n",
    "\n",
    "### Why is it important to build distinct environments?\n",
    "\n",
    "By creating a new environment for each project we work on, we ensure that we avoid package conflicts later. Package conflicts come about because most packages rely on code from others (this is called a dependency in programming).\n",
    "\n",
    "For example [pandas](https://pandas.pydata.org/pandas-docs/stable/install.html) has many dependencies. Including NumPy version 1.13.3 or higher.\n",
    "\n",
    "You can only have one version of NumPy active, so, if another package you need depends on an old version of NumPy (this could easily be the case if someone wrote some scientific code back in 2015 and hasn't updated it since) you will not be able to run the latest version of pandas and your legacy package together.\n",
    "\n",
    "If we were to simply run `conda install package name` in our core environment every time we wanted to try out a new package, we sould soon run into problems.\n",
    "\n",
    "What Anaconda allows us to do is make many different environments on our computer. Each environment is completely independant and can have\n",
    "- Different packages\n",
    "- Different versions of the same package\n",
    "- Different versions of Python itself\n",
    "\n",
    "This massively increases our flexibility and allows to install any package and experiment with different Python setups without fear of breaking our Python install.\n",
    "\n",
    "\n",
    "### Excercise\n",
    "\n",
    "Imagine we wanted to make use of the [cool new features of python 3.8](https://medium.com/fintechexplained/awesome-new-python-3-8-features-ed027416f2a5) in our code.\n",
    "\n",
    "#### 1. Make a new environment called testing with python 3.8 and numpy\n",
    "\n",
    "You can do this by making a new `environment.yaml` file like this:\n",
    "```yaml\n",
    "name: testing\n",
    "dependencies:\n",
    "   - python=3.8\n",
    "   - numpy\n",
    "\n",
    "```\n",
    "and creating the environment as you did for `ppd_python`.\n",
    "\n",
    "#### 2. Activate the environment `testing`\n",
    "\n",
    "```bash\n",
    "source activate testing\n",
    "```\n",
    "\n",
    "#### 3. Try installing matplotlib in the testing environment\n",
    "\n",
    "On another project you want to make some plots with matplotlib that needs to be installed:\n",
    "\n",
    "`conda install matplotlib`\n",
    "\n",
    "What happened!?\n",
    "\n",
    "If we were using Python by itself we would have to decide, Python 3.8 and numpy or matplotlib? With anaconda, we can have both.\n",
    "\n",
    "#### 4. Make a new environment with python, numpy and matplotlib, do not specify the version of python\n",
    "\n",
    "```yaml\n",
    "name: testing2\n",
    "dependencies:\n",
    "   - python\n",
    "   - numpy\n",
    "   - matplotlib\n",
    "```\n",
    "\n",
    "#### 5. Make an environment file with packages you use for your current project (and no more)\n",
    "This is the first step toward making your code shareable and your science reproducable. Get in the habit now.\n",
    "\n",
    "### Take home messages:\n",
    "- Environments let you set up any combination of libraries without affecting your base installation\n",
    "- Specifying version numbers (e.g. python=3.8) decreases your flexibility and increases the chance of conflicts. Only do it if you really need to.\n",
    "\n",
    "## References\n",
    "This is my personal take on the Python ecosystem and the best way to naviate it, there are many more opinions on the internet.\n",
    "\n",
    "For more detail, here's a [nicely illustrated article](https://protostar.space/why-you-need-python-environments-and-how-to-manage-them-with-conda) on how to manage Anaconda."
   ]
  }
 ],
 "metadata": {
  "kernelspec": {
   "display_name": "Python 3",
   "language": "python",
   "name": "python3"
  },
  "language_info": {
   "codemirror_mode": {
    "name": "ipython",
    "version": 3
   },
   "file_extension": ".py",
   "mimetype": "text/x-python",
   "name": "python",
   "nbconvert_exporter": "python",
   "pygments_lexer": "ipython3",
   "version": "3.8.6"
  }
 },
 "nbformat": 4,
 "nbformat_minor": 2
}
