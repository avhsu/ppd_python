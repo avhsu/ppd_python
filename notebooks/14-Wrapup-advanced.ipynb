{
 "cells": [
  {
   "cell_type": "markdown",
   "metadata": {},
   "source": [
    "# Course Complete\n",
    "## You made it! Congratulations\n",
    "\n",
    "\n",
    "Now is your time to look back over the notebooks and ask us about anything you're unsure of. You can ask about Pycharm or VS Code. If you have data in .csv or netCDF we can help you get it into Python.\n",
    "\n",
    "## Further reading and useful resources\n",
    "\n",
    "Much of this short course is condensed from the UEA Cefas multiple days \"Python for data science\" course. The materials are available as jupyter notebooks [here](https://github.com/ueapy/pythoncourse2021-materials/tree/master/notebooks). You can find the Binder hosted cloud based notebooks [here](https://mybinder.org/repo/ueapy/pythoncourse2021-materials).\n",
    "\n",
    "If you enjoyed the \"friends of Python\" notebook and would like to code more effectivly, Anthoy De-Gol gave a great talk to the Scientific Python group last month. You can find my notes on the talk here\n",
    "\n",
    "[Become a 10x programmer](https://ueapy.github.io/become-a-10x-programmer-lessons-from-academia-and-industry.html)\n",
    "\n",
    "## Course evaluation (2 mins)\n",
    "\n",
    "Complete anonymous survey here:\n",
    "\n",
    "ADD SURVEY HERE.\n",
    "\n",
    "To join the UEA Scientific Python mailing list and recieve info on all things Python at UEA, drop an email to one of the instructors.\n",
    "\n",
    "## One final plug (and xkcd comic)\n",
    "\n",
    "### If you like Python, you'll love Linux\n"
   ]
  },
  {
   "cell_type": "code",
   "execution_count": 1,
   "metadata": {},
   "outputs": [
    {
     "data": {
      "text/html": [
       "<img src=\"https://imgs.xkcd.com/comics/linux_user_at_best_buy.png\"/>"
      ],
      "text/plain": [
       "<IPython.core.display.Image object>"
      ]
     },
     "execution_count": 1,
     "metadata": {},
     "output_type": "execute_result"
    }
   ],
   "source": [
    "from IPython.core.display import Image \n",
    "Image(url='https://imgs.xkcd.com/comics/linux_user_at_best_buy.png')"
   ]
  },
  {
   "cell_type": "markdown",
   "metadata": {},
   "source": [
    "I recommend installing Ubuntu or Linux Mint. This can easily be done as a dual boot (Linux + Windows) if you are relucatant to make the change immediately, or need some Windows only software. You can try out any Linux distro easily and risk free by installing it on a [virtual machine](https://techsviewer.com/ubuntu-virtual-machine/).\n",
    "\n",
    "Due to their refusal to grant administrator rights to users, I do not recommend UEA Ubuntu. If you wish to make the most of all that Linux and the free software community can offer, do not let ITCS anywhere near your machine."
   ]
  }
 ],
 "metadata": {
  "kernelspec": {
   "display_name": "Python 3",
   "language": "python",
   "name": "python3"
  },
  "language_info": {
   "codemirror_mode": {
    "name": "ipython",
    "version": 3
   },
   "file_extension": ".py",
   "mimetype": "text/x-python",
   "name": "python",
   "nbconvert_exporter": "python",
   "pygments_lexer": "ipython3",
   "version": "3.8.6"
  }
 },
 "nbformat": 4,
 "nbformat_minor": 2
}
